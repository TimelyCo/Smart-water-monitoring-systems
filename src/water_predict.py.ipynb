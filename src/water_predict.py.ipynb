{
 "cells": [
  {
   "cell_type": "code",
   "execution_count": 1,
   "id": "344f2638-1aa4-449d-995a-56f29462f018",
   "metadata": {},
   "outputs": [],
   "source": [
    "import pandas as pd\n",
    "import numpy as np\n",
    "from sklearn.ensemble import RandomForestRegressor"
   ]
  },
  {
   "cell_type": "code",
   "execution_count": 2,
   "id": "18274ac8-a6e8-4ee1-8a90-fee10087e6be",
   "metadata": {},
   "outputs": [],
   "source": [
    "# Load data\n",
    "train = pd.read_csv('train.csv')\n",
    "test = pd.read_csv('test.csv')"
   ]
  },
  {
   "cell_type": "code",
   "execution_count": 3,
   "id": "d9300874-5389-4600-8952-ef0c8bd585b3",
   "metadata": {},
   "outputs": [],
   "source": [
    "# Store original Timestamp from test for submission\n",
    "test_timestamps = test['Timestamp'].copy()"
   ]
  },
  {
   "cell_type": "code",
   "execution_count": 4,
   "id": "35ea1571-50ff-4f01-a558-517a0e32cff5",
   "metadata": {},
   "outputs": [
    {
     "name": "stdout",
     "output_type": "stream",
     "text": [
      "Train Timestamp sample: ['01/01/2002 00', '01/01/2002 08', '01/01/2002 16', '02/01/2002 00', '02/01/2002 08', '02/01/2002 16', '03/01/2002 00', '03/01/2002 08', '03/01/2002 16', '04/01/2002 00']\n",
      "Missing values in train Timestamp: 0 / 14000\n",
      "Test Timestamp sample: ['11/10/2014 16', '12/10/2014 00', '12/10/2014 08', '12/10/2014 16', '13/10/2014 00', '13/10/2014 08', '13/10/2014 16', '14/10/2014 00', '14/10/2014 08', '14/10/2014 16']\n",
      "Missing values in test Timestamp: 0 / 6000\n"
     ]
    }
   ],
   "source": [
    "# Check Timestamp\n",
    "print(\"Train Timestamp sample:\", train['Timestamp'].head(10).tolist())\n",
    "print(\"Missing values in train Timestamp:\", train['Timestamp'].isna().sum(), \"/\", len(train))\n",
    "print(\"Test Timestamp sample:\", test_timestamps.head(10).tolist())\n",
    "print(\"Missing values in test Timestamp:\", test_timestamps.isna().sum(), \"/\", len(test))"
   ]
  },
  {
   "cell_type": "code",
   "execution_count": 5,
   "id": "39a742c0-91cd-4381-87b7-00b49ddc7a32",
   "metadata": {},
   "outputs": [],
   "source": [
    "# Handle anomalies in numeric columns\n",
    "numeric_cols = ['Temperature', 'Humidity', 'Water_Price', 'Residents', 'Guests', 'Period_Consumption_Index']\n",
    "for col in numeric_cols:\n",
    "    train[col] = pd.to_numeric(train[col], errors='coerce')\n",
    "    test[col] = pd.to_numeric(test[col], errors='coerce')\n",
    "    train_median = train[col].median()\n",
    "    test_median = test[col].median()\n",
    "    train[col] = train[col].fillna(train_median)\n",
    "    test[col] = test[col].fillna(test_median)"
   ]
  },
  {
   "cell_type": "code",
   "execution_count": 6,
   "id": "bb42e3f1-b7bf-4699-b87e-997aa5278852",
   "metadata": {},
   "outputs": [],
   "source": [
    "# Fix negative values\n",
    "train['Residents'] = train['Residents'].apply(lambda x: max(x, 1))\n",
    "test['Residents'] = test['Residents'].apply(lambda x: max(x, 1))\n",
    "train['Water_Price'] = train['Water_Price'].apply(lambda x: max(x, 0))\n",
    "test['Water_Price'] = test['Water_Price'].apply(lambda x: max(x, 0))"
   ]
  },
  {
   "cell_type": "code",
   "execution_count": 7,
   "id": "563b0e98-9bd5-489e-ac7a-0a477937ec7c",
   "metadata": {},
   "outputs": [],
   "source": [
    "# Encode categorical columns\n",
    "categorical_cols = ['Apartment_Type', 'Income_Level', 'Appliance_Usage']\n",
    "for col in categorical_cols:\n",
    "    train[col] = train[col].fillna('Missing').astype('category').cat.codes\n",
    "    test[col] = test[col].fillna('Missing').astype('category').cat.codes"
   ]
  },
  {
   "cell_type": "code",
   "execution_count": 8,
   "id": "926a6a6d-4eb7-4c02-88fc-baa62a710fc7",
   "metadata": {},
   "outputs": [
    {
     "name": "stdout",
     "output_type": "stream",
     "text": [
      "Encoding unexpected column: Amenities\n"
     ]
    }
   ],
   "source": [
    "# Check for any remaining string columns (excluding Timestamp)\n",
    "object_cols = train.select_dtypes(include='object').columns\n",
    "for col in object_cols:\n",
    "    if col != 'Timestamp':\n",
    "        print(f\"Encoding unexpected column: {col}\")\n",
    "        train[col] = train[col].fillna('Missing').astype('category').cat.codes\n",
    "        test[col] = test[col].fillna('Missing').astype('category').cat.codes"
   ]
  },
  {
   "cell_type": "code",
   "execution_count": 9,
   "id": "1c476514-17d6-48a7-8a25-2cd42cb34a02",
   "metadata": {},
   "outputs": [],
   "source": [
    "# Features and target\n",
    "X_train = train.drop(['Timestamp', 'Water_Consumption'], axis=1)\n",
    "y_train = train['Water_Consumption']\n",
    "X_test = test.drop('Timestamp', axis=1)"
   ]
  },
  {
   "cell_type": "code",
   "execution_count": 10,
   "id": "6d329d07-7552-4a84-bc62-0126aca178c9",
   "metadata": {},
   "outputs": [
    {
     "name": "stdout",
     "output_type": "stream",
     "text": [
      "X_train dtypes:\n",
      " Residents                     int64\n",
      "Apartment_Type                 int8\n",
      "Temperature                 float64\n",
      "Humidity                    float64\n",
      "Water_Price                 float64\n",
      "Period_Consumption_Index    float64\n",
      "Income_Level                  int16\n",
      "Guests                        int64\n",
      "Amenities                      int8\n",
      "Appliance_Usage                int8\n",
      "dtype: object\n",
      "X_test dtypes:\n",
      " Residents                     int64\n",
      "Apartment_Type                 int8\n",
      "Temperature                 float64\n",
      "Humidity                    float64\n",
      "Water_Price                 float64\n",
      "Period_Consumption_Index    float64\n",
      "Income_Level                  int16\n",
      "Guests                        int64\n",
      "Amenities                      int8\n",
      "Appliance_Usage                int8\n",
      "dtype: object\n"
     ]
    }
   ],
   "source": [
    "# Verify all numeric\n",
    "print(\"X_train dtypes:\\n\", X_train.dtypes)\n",
    "print(\"X_test dtypes:\\n\", X_test.dtypes)"
   ]
  },
  {
   "cell_type": "code",
   "execution_count": 11,
   "id": "5ef7cf81-1b86-49cd-99e7-5d22cbd546e4",
   "metadata": {},
   "outputs": [],
   "source": [
    "# Model\n",
    "rf = RandomForestRegressor(n_estimators=100, random_state=42)\n",
    "rf.fit(X_train, y_train)\n",
    "test['Water_Consumption'] = rf.predict(X_test)"
   ]
  },
  {
   "cell_type": "code",
   "execution_count": 12,
   "id": "87012a64-8771-4e5f-8379-31d411018206",
   "metadata": {},
   "outputs": [],
   "source": [
    "# Submission using original test Timestamps\n",
    "submission = pd.DataFrame({\n",
    "    'Timestamp': test_timestamps,\n",
    "    'Water_Consumption': test['Water_Consumption']\n",
    "})\n",
    "submission.to_csv('submission.csv', index=False)"
   ]
  },
  {
   "cell_type": "code",
   "execution_count": 13,
   "id": "a9f85a8e-0591-4da5-9124-48cd642f26d2",
   "metadata": {},
   "outputs": [
    {
     "name": "stdout",
     "output_type": "stream",
     "text": [
      "Submission sample:\n",
      "       Timestamp  Water_Consumption\n",
      "0  11/10/2014 16           301.6945\n",
      "1  12/10/2014 00           256.8390\n",
      "2  12/10/2014 08            86.5053\n",
      "3  12/10/2014 16           133.1509\n",
      "4  13/10/2014 00           132.6131\n",
      "Submission shape: (6000, 2)\n"
     ]
    }
   ],
   "source": [
    "# Verify submission\n",
    "print(\"Submission sample:\")\n",
    "print(submission.head())\n",
    "print(\"Submission shape:\", submission.shape)"
   ]
  },
  {
   "cell_type": "code",
   "execution_count": null,
   "id": "ffcc9c7a-2a37-4764-ae9d-ffd224e41983",
   "metadata": {},
   "outputs": [],
   "source": []
  }
 ],
 "metadata": {
  "kernelspec": {
   "display_name": "Python 3 (ipykernel)",
   "language": "python",
   "name": "python3"
  },
  "language_info": {
   "codemirror_mode": {
    "name": "ipython",
    "version": 3
   },
   "file_extension": ".py",
   "mimetype": "text/x-python",
   "name": "python",
   "nbconvert_exporter": "python",
   "pygments_lexer": "ipython3",
   "version": "3.13.0"
  }
 },
 "nbformat": 4,
 "nbformat_minor": 5
}
